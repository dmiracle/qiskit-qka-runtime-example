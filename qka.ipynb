{
 "cells": [
  {
   "cell_type": "code",
   "execution_count": 1,
   "metadata": {},
   "outputs": [],
   "source": [
    "from decouple import config\n",
    "from qiskit import IBMQ\n",
    "from datetime import datetime\n",
    "import pprint\n",
    "import json"
   ]
  },
  {
   "cell_type": "code",
   "execution_count": 2,
   "metadata": {},
   "outputs": [
    {
     "name": "stdout",
     "output_type": "stream",
     "text": [
      "[<IBMQSimulator('ibmq_qasm_simulator') from IBMQ(hub='strangeworks-hub', group='qc-com', project='runtime')>, <IBMQBackend('ibm_nairobi') from IBMQ(hub='strangeworks-hub', group='qc-com', project='runtime')>]\n"
     ]
    }
   ],
   "source": [
    "IBMQ.load_account()\n",
    "IBMQ.providers()\n",
    "provider = IBMQ.get_provider(hub='strangeworks-hub', group='qc-com', project='runtime')\n",
    "print(provider.backends())"
   ]
  },
  {
   "cell_type": "code",
   "execution_count": 3,
   "metadata": {},
   "outputs": [],
   "source": [
    "import pandas as pd\n",
    "\n",
    "df = pd.read_csv('qiskit_runtime/qka/aux_file/dataset_graph7.csv',sep=',', header=None) # alterative problem: dataset_graph10.csv\n",
    "data = df.values"
   ]
  },
  {
   "cell_type": "code",
   "execution_count": 4,
   "metadata": {},
   "outputs": [],
   "source": [
    "import numpy as np\n",
    "\n",
    "# choose number of training and test samples per class:\n",
    "num_train = 10\n",
    "num_test = 10\n",
    "\n",
    "# extract training and test sets and sort them by class label\n",
    "train = data[:2*num_train, :]\n",
    "test = data[2*num_train:2*(num_train+num_test), :]\n",
    "\n",
    "ind=np.argsort(train[:,-1])\n",
    "x_train = train[ind][:,:-1]\n",
    "y_train = train[ind][:,-1]\n",
    "\n",
    "ind=np.argsort(test[:,-1])\n",
    "x_test = test[ind][:,:-1]\n",
    "y_test = test[ind][:,-1]"
   ]
  },
  {
   "cell_type": "code",
   "execution_count": 5,
   "metadata": {},
   "outputs": [],
   "source": [
    "from qiskit_runtime.qka import FeatureMap\n",
    "\n",
    "d = np.shape(data)[1]-1                                         # feature dimension is twice the qubit number\n",
    "\n",
    "em = [[0,2],[3,4],[2,5],[1,4],[2,3],[4,6]]                      # we'll match this to the 7-qubit graph\n",
    "# em = [[0,1],[2,3],[4,5],[6,7],[8,9],[1,2],[3,4],[5,6],[7,8]]  # we'll match this to the 10-qubit graph\n",
    "\n",
    "fm = FeatureMap(feature_dimension=d, entangler_map=em)          # define the feature map\n",
    "initial_point = [0.1]                                           # set the initial parameter for the feature map"
   ]
  },
  {
   "cell_type": "code",
   "execution_count": 6,
   "metadata": {},
   "outputs": [
    {
     "data": {
      "text/html": [
       "<pre style=\"word-wrap: normal;white-space: pre;background: #fff0;line-height: 1.1;font-family: &quot;Courier New&quot;,Courier,monospace\">     ┌──────────┐   ┌──────────────┐ ┌────────────┐                                                 \n",
       "q_0: ┤ RY(-0.1) ├─■─┤ RZ(-0.38383) ├─┤ RX(3.3378) ├─────────────────────────────────────────────────\n",
       "     ├──────────┤ │ └──────────────┘ └────────────┘┌──────────────┐ ┌──────────────┐                \n",
       "q_1: ┤ RY(-0.1) ├─┼────────────────────────■───────┤ RZ(-0.11811) ├─┤ RX(-0.20449) ├────────────────\n",
       "     ├──────────┤ │                        │       └──────────────┘ └┬────────────┬┘┌─────────────┐ \n",
       "q_2: ┤ RY(-0.1) ├─■────────■───────────────┼──────────────■──────────┤ RZ(3.4802) ├─┤ RX(0.15495) ├─\n",
       "     ├──────────┤          │               │              │         ┌┴────────────┤ ├─────────────┴┐\n",
       "q_3: ┤ RY(-0.1) ├─■────────┼───────────────┼──────────────■─────────┤ RZ(0.34764) ├─┤ RX(-0.54085) ├\n",
       "     ├──────────┤ │        │               │                        ├─────────────┤ ├──────────────┤\n",
       "q_4: ┤ RY(-0.1) ├─■────────┼───────────────■──────────────■─────────┤ RZ(0.34312) ├─┤ RX(-0.14015) ├\n",
       "     ├──────────┤          │        ┌─────────────┐       │        ┌┴─────────────┴┐└──────────────┘\n",
       "q_5: ┤ RY(-0.1) ├──────────■────────┤ RZ(0.51497) ├───────┼────────┤ RX(-0.029293) ├────────────────\n",
       "     ├──────────┤                   └─────────────┘       │        └┬──────────────┤┌─────────────┐ \n",
       "q_6: ┤ RY(-0.1) ├─────────────────────────────────────────■─────────┤ RZ(-0.42725) ├┤ RX(0.44115) ├─\n",
       "     └──────────┘                                                   └──────────────┘└─────────────┘ </pre>"
      ],
      "text/plain": [
       "     ┌──────────┐   ┌──────────────┐ ┌────────────┐                                                 \n",
       "q_0: ┤ RY(-0.1) ├─■─┤ RZ(-0.38383) ├─┤ RX(3.3378) ├─────────────────────────────────────────────────\n",
       "     ├──────────┤ │ └──────────────┘ └────────────┘┌──────────────┐ ┌──────────────┐                \n",
       "q_1: ┤ RY(-0.1) ├─┼────────────────────────■───────┤ RZ(-0.11811) ├─┤ RX(-0.20449) ├────────────────\n",
       "     ├──────────┤ │                        │       └──────────────┘ └┬────────────┬┘┌─────────────┐ \n",
       "q_2: ┤ RY(-0.1) ├─■────────■───────────────┼──────────────■──────────┤ RZ(3.4802) ├─┤ RX(0.15495) ├─\n",
       "     ├──────────┤          │               │              │         ┌┴────────────┤ ├─────────────┴┐\n",
       "q_3: ┤ RY(-0.1) ├─■────────┼───────────────┼──────────────■─────────┤ RZ(0.34764) ├─┤ RX(-0.54085) ├\n",
       "     ├──────────┤ │        │               │                        ├─────────────┤ ├──────────────┤\n",
       "q_4: ┤ RY(-0.1) ├─■────────┼───────────────■──────────────■─────────┤ RZ(0.34312) ├─┤ RX(-0.14015) ├\n",
       "     ├──────────┤          │        ┌─────────────┐       │        ┌┴─────────────┴┐└──────────────┘\n",
       "q_5: ┤ RY(-0.1) ├──────────■────────┤ RZ(0.51497) ├───────┼────────┤ RX(-0.029293) ├────────────────\n",
       "     ├──────────┤                   └─────────────┘       │        └┬──────────────┤┌─────────────┐ \n",
       "q_6: ┤ RY(-0.1) ├─────────────────────────────────────────■─────────┤ RZ(-0.42725) ├┤ RX(0.44115) ├─\n",
       "     └──────────┘                                                   └──────────────┘└─────────────┘ "
      ]
     },
     "execution_count": 6,
     "metadata": {},
     "output_type": "execute_result"
    }
   ],
   "source": [
    "from qiskit.tools.visualization import circuit_drawer\n",
    "circuit_drawer(fm.construct_circuit(x=x_train[0], parameters=initial_point),\n",
    "               output='text', fold=200)"
   ]
  },
  {
   "cell_type": "code",
   "execution_count": 7,
   "metadata": {},
   "outputs": [],
   "source": [
    "C = 1                                                           # SVM soft-margin penalty\n",
    "maxiters = 10                                                   # number of SPSA iterations\n",
    "\n"
   ]
  },
  {
   "cell_type": "code",
   "execution_count": 13,
   "metadata": {},
   "outputs": [],
   "source": [
    "initial_layout = [0, 1, 2, 3, 4, 5, 6]                    # see figure above for the 7-qubit graph\n",
    "# initial_layout = [9, 8, 11, 14, 16, 19, 22, 25, 24, 23]       # see figure above for the 10-qubit graph"
   ]
  },
  {
   "cell_type": "code",
   "execution_count": 14,
   "metadata": {},
   "outputs": [
    {
     "name": "stdout",
     "output_type": "stream",
     "text": [
      "quantum-kernel-alignment:\n",
      "  Name: quantum-kernel-alignment\n",
      "  Description: Quantum kernel alignment algorithm that learns, on a given dataset, a quantum kernel maximizing the SVM classification margin.\n",
      "  Version: 1\n",
      "  Creation date: 2021-05-06T14:56:53.000000\n",
      "  Max execution time: 28800\n",
      "  Input parameters:\n",
      "    - feature_map:\n",
      "      Description: An instance of FeatureMap in dictionary format used to map classical data into a quantum state space.\n",
      "      Type: dict\n",
      "      Required: True\n",
      "    - data:\n",
      "      Description: NxD array of training data, where N is the number of samples and D is the feature dimension.\n",
      "      Type: numpy.ndarray\n",
      "      Required: True\n",
      "    - labels:\n",
      "      Description: Nx1 array of +/-1 labels of the N training samples.\n",
      "      Type: numpy.ndarray\n",
      "      Required: True\n",
      "    - initial_kernel_parameters:\n",
      "      Description: Initial parameters of the quantum kernel. If not specified, an array of randomly generated numbers is used.\n",
      "      Type: numpy.ndarray\n",
      "      Required: False\n",
      "    - maxiters:\n",
      "      Description: Number of SPSA optimization steps. Default is 1.\n",
      "      Type: int\n",
      "      Required: False\n",
      "    - C:\n",
      "      Description: Penalty parameter for the soft-margin support vector machine. Default is 1.\n",
      "      Type: float\n",
      "      Required: False\n",
      "    - initial_layout:\n",
      "      Description: Initial position of virtual qubits on the physical qubits of the quantum device. Default is None.\n",
      "      Type: list or dict\n",
      "      Required: False\n",
      "  Interim results:\n",
      "    none\n",
      "  Returns:\n",
      "    - aligned_kernel_parameters:\n",
      "      Description: The optimized kernel parameters found from quantum kernel alignment.\n",
      "      Type: numpy.ndarray\n",
      "    - aligned_kernel_matrix:\n",
      "      Description: The aligned quantum kernel matrix evaluated with the optimized kernel parameters on the training data.\n",
      "      Type: numpy.ndarray\n"
     ]
    }
   ],
   "source": [
    "print(provider.runtime.program('quantum-kernel-alignment'))\n",
    "\n"
   ]
  },
  {
   "cell_type": "code",
   "execution_count": 15,
   "metadata": {},
   "outputs": [],
   "source": [
    "def interim_result_callback(job_id, interim_result):\n",
    "    print(f\"interim result: {interim_result}\\n\")"
   ]
  },
  {
   "cell_type": "code",
   "execution_count": 16,
   "metadata": {},
   "outputs": [],
   "source": [
    "# backend = provider.get_backend('ibmq_qasm_simulator')\n",
    "backend = provider.get_backend('ibm_nairobi')\n"
   ]
  },
  {
   "cell_type": "code",
   "execution_count": 21,
   "metadata": {},
   "outputs": [
    {
     "name": "stdout",
     "output_type": "stream",
     "text": [
      "c3lhkm1kjfmd50ohql90\n"
     ]
    },
    {
     "name": "stderr",
     "output_type": "stream",
     "text": [
      "runtime_job._start_websocket_client:WARNING:2021-07-11 11:35:26,424: An error occurred while streaming results from the server for job c3lhkm1kjfmd50ohql90:\n",
      "Traceback (most recent call last):\n",
      "  File \"/Users/dylan/repos/qiskit-qka-runtime-example/venv/lib/python3.8/site-packages/qiskit/providers/ibmq/runtime/runtime_job.py\", line 289, in _start_websocket_client\n",
      "    self._ws_client.job_results()\n",
      "  File \"/Users/dylan/repos/qiskit-qka-runtime-example/venv/lib/python3.8/site-packages/qiskit/providers/ibmq/api/clients/runtime_ws.py\", line 74, in job_results\n",
      "    self.stream(url=url, retries=max_retries, backoff_factor=backoff_factor)\n",
      "  File \"/Users/dylan/repos/qiskit-qka-runtime-example/venv/lib/python3.8/site-packages/qiskit/providers/ibmq/api/clients/base.py\", line 211, in stream\n",
      "    raise WebsocketError(error_message)\n",
      "qiskit.providers.ibmq.api.exceptions.WebsocketError: 'Max retries exceeded: Failed to establish a websocket connection. Error: Traceback (most recent call last):\\n  File \"/Users/dylan/repos/qiskit-qka-runtime-example/venv/lib/python3.8/site-packages/websocket/_app.py\", line 369, in run_forever\\n    dispatcher.read(self.sock.sock, read, check)\\n  File \"/Users/dylan/repos/qiskit-qka-runtime-example/venv/lib/python3.8/site-packages/websocket/_app.py\", line 72, in read\\n    if not read_callback():\\n  File \"/Users/dylan/repos/qiskit-qka-runtime-example/venv/lib/python3.8/site-packages/websocket/_app.py\", line 335, in read\\n    op_code, frame = self.sock.recv_data_frame(True)\\n  File \"/Users/dylan/repos/qiskit-qka-runtime-example/venv/lib/python3.8/site-packages/websocket/_core.py\", line 395, in recv_data_frame\\n    frame = self.recv_frame()\\n  File \"/Users/dylan/repos/qiskit-qka-runtime-example/venv/lib/python3.8/site-packages/websocket/_core.py\", line 434, in recv_frame\\n    return self.frame_buffer.recv_frame()\\n  File \"/Users/dylan/repos/qiskit-qka-runtime-example/venv/lib/python3.8/site-packages/websocket/_abnf.py\", line 339, in recv_frame\\n    self.recv_header()\\n  File \"/Users/dylan/repos/qiskit-qka-runtime-example/venv/lib/python3.8/site-packages/websocket/_abnf.py\", line 295, in recv_header\\n    header = self.recv_strict(2)\\n  File \"/Users/dylan/repos/qiskit-qka-runtime-example/venv/lib/python3.8/site-packages/websocket/_abnf.py\", line 374, in recv_strict\\n    bytes_ = self.recv(min(16384, shortage))\\n  File \"/Users/dylan/repos/qiskit-qka-runtime-example/venv/lib/python3.8/site-packages/websocket/_core.py\", line 518, in _recv\\n    return recv(self.sock, bufsize)\\n  File \"/Users/dylan/repos/qiskit-qka-runtime-example/venv/lib/python3.8/site-packages/websocket/_socket.py\", line 127, in recv\\n    raise WebSocketConnectionClosedException(\\nwebsocket._exceptions.WebSocketConnectionClosedException: Connection to remote host was lost.\\n'\n",
      "\n"
     ]
    }
   ],
   "source": [
    "program_inputs = {\n",
    "    'feature_map': fm,\n",
    "    'data': x_train,\n",
    "    'labels': y_train,\n",
    "    'initial_kernel_parameters': initial_point,\n",
    "    'maxiters': maxiters,\n",
    "    'C': C,\n",
    "    'initial_layout': initial_layout\n",
    "}\n",
    "\n",
    "options = {'backend_name': backend.name()}\n",
    "\n",
    "job = provider.runtime.run(program_id=\"quantum-kernel-alignment\",\n",
    "                              options=options,\n",
    "                              inputs=program_inputs,\n",
    "                              callback=interim_result_callback,\n",
    "                              )\n",
    "\n",
    "print(job.job_id())\n",
    "result2 = job.result()"
   ]
  },
  {
   "cell_type": "code",
   "execution_count": 23,
   "metadata": {},
   "outputs": [
    {
     "name": "stdout",
     "output_type": "stream",
     "text": [
      "c3lm8gbma37p8k0h4hh0\n"
     ]
    }
   ],
   "source": [
    "program_inputs = {\n",
    "    'feature_map': fm,\n",
    "    'data': x_train,\n",
    "    'labels': y_train,\n",
    "    'initial_kernel_parameters': initial_point,\n",
    "    'maxiters': maxiters,\n",
    "    'C': C,\n",
    "    'initial_layout': initial_layout\n",
    "}\n",
    "\n",
    "options = {'backend_name': 'ibmq_qasm_simulator'}\n",
    "\n",
    "job = provider.runtime.run(program_id=\"quantum-kernel-alignment\",\n",
    "                              options=options,\n",
    "                              inputs=program_inputs,\n",
    "                              callback=None,\n",
    "                              )\n",
    "\n",
    "print(job.job_id())\n",
    "result3 = job.result()"
   ]
  },
  {
   "cell_type": "code",
   "execution_count": 20,
   "metadata": {},
   "outputs": [
    {
     "data": {
      "text/plain": [
       "{'aligned_kernel_parameters': array([0.51280987]),\n",
       " 'aligned_kernel_matrix': array([[1.00000000e+00, 4.24804688e-02, 5.24902344e-02, 1.23535156e-01,\n",
       "         1.96044922e-01, 1.29394531e-02, 1.31835938e-02, 3.07617188e-02,\n",
       "         4.56542969e-02, 1.12670898e-01, 2.53906250e-02, 7.12890625e-02,\n",
       "         1.06811523e-01, 6.53076172e-02, 2.16064453e-02, 4.94384766e-02,\n",
       "         4.56909180e-01, 2.56347656e-02, 2.77099609e-01, 1.09863281e-01],\n",
       "        [4.24804688e-02, 1.00000000e+00, 3.78417969e-03, 1.18408203e-02,\n",
       "         2.63671875e-02, 1.39160156e-02, 2.13134766e-01, 4.88281250e-02,\n",
       "         5.79833984e-02, 1.38793945e-01, 5.88378906e-02, 2.22167969e-02,\n",
       "         1.57470703e-02, 1.77734375e-01, 7.08007812e-02, 2.18505859e-02,\n",
       "         3.58886719e-02, 9.89990234e-02, 7.34863281e-02, 1.26586914e-01],\n",
       "        [5.24902344e-02, 3.78417969e-03, 1.00000000e+00, 1.86279297e-01,\n",
       "         1.43920898e-01, 1.16821289e-01, 1.03759766e-02, 5.22460938e-02,\n",
       "         2.46582031e-02, 1.24511719e-02, 2.31933594e-03, 8.78906250e-03,\n",
       "         1.89208984e-02, 3.41796875e-03, 7.32421875e-04, 5.37109375e-03,\n",
       "         5.71289062e-02, 4.63867188e-03, 1.34277344e-02, 1.08642578e-02],\n",
       "        [1.23535156e-01, 1.18408203e-02, 1.86279297e-01, 1.00000000e+00,\n",
       "         5.00488281e-02, 5.46875000e-02, 3.66210938e-03, 1.34033203e-01,\n",
       "         1.37939453e-02, 4.55322266e-02, 9.15527344e-03, 2.83203125e-02,\n",
       "         4.56542969e-02, 1.01318359e-02, 3.41796875e-03, 1.17187500e-02,\n",
       "         1.51489258e-01, 1.15966797e-02, 3.45458984e-02, 4.21142578e-02],\n",
       "        [1.96044922e-01, 2.63671875e-02, 1.43920898e-01, 5.00488281e-02,\n",
       "         1.00000000e+00, 2.18505859e-02, 3.50341797e-02, 6.71386719e-03,\n",
       "         6.35986328e-02, 4.08935547e-02, 5.00488281e-03, 1.59912109e-02,\n",
       "         3.21044922e-02, 9.27734375e-03, 5.37109375e-03, 6.59179688e-03,\n",
       "         8.69140625e-02, 7.44628906e-03, 4.69970703e-02, 1.86767578e-02],\n",
       "        [1.29394531e-02, 1.39160156e-02, 1.16821289e-01, 5.46875000e-02,\n",
       "         2.18505859e-02, 1.00000000e+00, 2.49023438e-02, 1.29394531e-01,\n",
       "         1.43066406e-01, 4.27246094e-02, 6.83593750e-03, 2.31933594e-03,\n",
       "         1.34277344e-03, 2.92968750e-03, 1.22070312e-03, 3.66210938e-04,\n",
       "         2.80761719e-03, 7.93457031e-03, 2.19726562e-03, 3.51562500e-02],\n",
       "        [1.31835938e-02, 2.13134766e-01, 1.03759766e-02, 3.66210938e-03,\n",
       "         3.50341797e-02, 2.49023438e-02, 1.00000000e+00, 1.19628906e-02,\n",
       "         1.68579102e-01, 5.59082031e-02, 7.93457031e-03, 9.76562500e-04,\n",
       "         3.90625000e-03, 2.79541016e-02, 2.72216797e-02, 2.80761719e-03,\n",
       "         8.05664062e-03, 2.20947266e-02, 6.59179688e-03, 2.96630859e-02],\n",
       "        [3.07617188e-02, 4.88281250e-02, 5.22460938e-02, 1.34033203e-01,\n",
       "         6.71386719e-03, 1.29394531e-01, 1.19628906e-02, 1.00000000e+00,\n",
       "         3.22265625e-02, 1.50878906e-01, 1.97753906e-02, 6.22558594e-03,\n",
       "         4.63867188e-03, 1.64794922e-02, 7.69042969e-03, 1.09863281e-03,\n",
       "         1.56250000e-02, 2.06298828e-02, 9.88769531e-03, 1.41113281e-01],\n",
       "        [4.56542969e-02, 5.79833984e-02, 2.46582031e-02, 1.37939453e-02,\n",
       "         6.35986328e-02, 1.43066406e-01, 1.68579102e-01, 3.22265625e-02,\n",
       "         1.00000000e+00, 1.44653320e-01, 2.09960938e-02, 5.12695312e-03,\n",
       "         4.88281250e-03, 3.80859375e-02, 1.14746094e-02, 6.83593750e-03,\n",
       "         1.20849609e-02, 1.48925781e-02, 6.22558594e-03, 1.07910156e-01],\n",
       "        [1.12670898e-01, 1.38793945e-01, 1.24511719e-02, 4.55322266e-02,\n",
       "         4.08935547e-02, 4.27246094e-02, 5.59082031e-02, 1.50878906e-01,\n",
       "         1.44653320e-01, 1.00000000e+00, 3.66210938e-02, 3.66210938e-03,\n",
       "         5.32226562e-02, 7.06787109e-02, 2.40478516e-02, 1.52587891e-02,\n",
       "         3.90625000e-02, 1.67236328e-01, 3.02734375e-02, 1.74926758e-01],\n",
       "        [2.53906250e-02, 5.88378906e-02, 2.31933594e-03, 9.15527344e-03,\n",
       "         5.00488281e-03, 6.83593750e-03, 7.93457031e-03, 1.97753906e-02,\n",
       "         2.09960938e-02, 3.66210938e-02, 1.00000000e+00, 6.83593750e-03,\n",
       "         8.71582031e-02, 3.67431641e-02, 9.50927734e-02, 1.52587891e-02,\n",
       "         1.30615234e-02, 9.43603516e-02, 6.83593750e-03, 1.48803711e-01],\n",
       "        [7.12890625e-02, 2.22167969e-02, 8.78906250e-03, 2.83203125e-02,\n",
       "         1.59912109e-02, 2.31933594e-03, 9.76562500e-04, 6.22558594e-03,\n",
       "         5.12695312e-03, 3.66210938e-03, 6.83593750e-03, 1.00000000e+00,\n",
       "         1.34277344e-02, 1.52587891e-02, 1.58691406e-03, 1.03759766e-02,\n",
       "         9.50927734e-02, 2.80761719e-02, 2.67333984e-02, 1.79443359e-02],\n",
       "        [1.06811523e-01, 1.57470703e-02, 1.89208984e-02, 4.56542969e-02,\n",
       "         3.21044922e-02, 1.34277344e-03, 3.90625000e-03, 4.63867188e-03,\n",
       "         4.88281250e-03, 5.32226562e-02, 8.71582031e-02, 1.34277344e-02,\n",
       "         1.00000000e+00, 1.23291016e-02, 2.05078125e-02, 9.81445312e-02,\n",
       "         6.81152344e-02, 1.39160156e-02, 4.46777344e-02, 3.94287109e-02],\n",
       "        [6.53076172e-02, 1.77734375e-01, 3.41796875e-03, 1.01318359e-02,\n",
       "         9.27734375e-03, 2.92968750e-03, 2.79541016e-02, 1.64794922e-02,\n",
       "         3.80859375e-02, 7.06787109e-02, 3.67431641e-02, 1.52587891e-02,\n",
       "         1.23291016e-02, 1.00000000e+00, 1.68579102e-01, 2.46582031e-02,\n",
       "         2.49023438e-02, 2.16064453e-02, 9.11865234e-02, 9.66796875e-02],\n",
       "        [2.16064453e-02, 7.08007812e-02, 7.32421875e-04, 3.41796875e-03,\n",
       "         5.37109375e-03, 1.22070312e-03, 2.72216797e-02, 7.69042969e-03,\n",
       "         1.14746094e-02, 2.40478516e-02, 9.50927734e-02, 1.58691406e-03,\n",
       "         2.05078125e-02, 1.68579102e-01, 1.00000000e+00, 3.96728516e-02,\n",
       "         1.11083984e-02, 1.53808594e-02, 3.19824219e-02, 3.22265625e-02],\n",
       "        [4.94384766e-02, 2.18505859e-02, 5.37109375e-03, 1.17187500e-02,\n",
       "         6.59179688e-03, 3.66210938e-04, 2.80761719e-03, 1.09863281e-03,\n",
       "         6.83593750e-03, 1.52587891e-02, 1.52587891e-02, 1.03759766e-02,\n",
       "         9.81445312e-02, 2.46582031e-02, 3.96728516e-02, 1.00000000e+00,\n",
       "         3.52783203e-02, 2.19726562e-03, 1.01318359e-01, 1.69677734e-02],\n",
       "        [4.56909180e-01, 3.58886719e-02, 5.71289062e-02, 1.51489258e-01,\n",
       "         8.69140625e-02, 2.80761719e-03, 8.05664062e-03, 1.56250000e-02,\n",
       "         1.20849609e-02, 3.90625000e-02, 1.30615234e-02, 9.50927734e-02,\n",
       "         6.81152344e-02, 2.49023438e-02, 1.11083984e-02, 3.52783203e-02,\n",
       "         1.00000000e+00, 3.28369141e-02, 1.57592773e-01, 1.52832031e-01],\n",
       "        [2.56347656e-02, 9.89990234e-02, 4.63867188e-03, 1.15966797e-02,\n",
       "         7.44628906e-03, 7.93457031e-03, 2.20947266e-02, 2.06298828e-02,\n",
       "         1.48925781e-02, 1.67236328e-01, 9.43603516e-02, 2.80761719e-02,\n",
       "         1.39160156e-02, 2.16064453e-02, 1.53808594e-02, 2.19726562e-03,\n",
       "         3.28369141e-02, 1.00000000e+00, 7.20214844e-03, 1.99462891e-01],\n",
       "        [2.77099609e-01, 7.34863281e-02, 1.34277344e-02, 3.45458984e-02,\n",
       "         4.69970703e-02, 2.19726562e-03, 6.59179688e-03, 9.88769531e-03,\n",
       "         6.22558594e-03, 3.02734375e-02, 6.83593750e-03, 2.67333984e-02,\n",
       "         4.46777344e-02, 9.11865234e-02, 3.19824219e-02, 1.01318359e-01,\n",
       "         1.57592773e-01, 7.20214844e-03, 1.00000000e+00, 1.81884766e-02],\n",
       "        [1.09863281e-01, 1.26586914e-01, 1.08642578e-02, 4.21142578e-02,\n",
       "         1.86767578e-02, 3.51562500e-02, 2.96630859e-02, 1.41113281e-01,\n",
       "         1.07910156e-01, 1.74926758e-01, 1.48803711e-01, 1.79443359e-02,\n",
       "         3.94287109e-02, 9.66796875e-02, 3.22265625e-02, 1.69677734e-02,\n",
       "         1.52832031e-01, 1.99462891e-01, 1.81884766e-02, 1.00000000e+00]])}"
      ]
     },
     "execution_count": 20,
     "metadata": {},
     "output_type": "execute_result"
    }
   ],
   "source": [
    "result"
   ]
  },
  {
   "cell_type": "code",
   "execution_count": null,
   "metadata": {},
   "outputs": [],
   "source": []
  }
 ],
 "metadata": {
  "interpreter": {
   "hash": "5235b130ac8ee844e69bfbdc43e9db371723229e4e65fbc74532b8566a9ffb70"
  },
  "kernelspec": {
   "display_name": "Python 3.8.2 64-bit ('venv': venv)",
   "name": "python3"
  },
  "language_info": {
   "codemirror_mode": {
    "name": "ipython",
    "version": 3
   },
   "file_extension": ".py",
   "mimetype": "text/x-python",
   "name": "python",
   "nbconvert_exporter": "python",
   "pygments_lexer": "ipython3",
   "version": "3.8.2"
  },
  "orig_nbformat": 4
 },
 "nbformat": 4,
 "nbformat_minor": 2
}